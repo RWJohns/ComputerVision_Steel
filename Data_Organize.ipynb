{
 "cells": [
  {
   "cell_type": "code",
   "execution_count": 11,
   "metadata": {},
   "outputs": [],
   "source": [
    "import os\n",
    "import cv2\n",
    "from pathlib import Path\n",
    "\n",
    "%matplotlib inline\n",
    "import matplotlib.pyplot as plt\n",
    "\n",
    "import matplotlib.pyplot as plt\n",
    "import numpy as np\n",
    "import pandas as pd"
   ]
  },
  {
   "cell_type": "code",
   "execution_count": 2,
   "metadata": {},
   "outputs": [
    {
     "name": "stdout",
     "output_type": "stream",
     "text": [
      "(50272, 5)\n"
     ]
    },
    {
     "data": {
      "text/html": [
       "<div>\n",
       "<style scoped>\n",
       "    .dataframe tbody tr th:only-of-type {\n",
       "        vertical-align: middle;\n",
       "    }\n",
       "\n",
       "    .dataframe tbody tr th {\n",
       "        vertical-align: top;\n",
       "    }\n",
       "\n",
       "    .dataframe thead th {\n",
       "        text-align: right;\n",
       "    }\n",
       "</style>\n",
       "<table border=\"1\" class=\"dataframe\">\n",
       "  <thead>\n",
       "    <tr style=\"text-align: right;\">\n",
       "      <th></th>\n",
       "      <th>ImageId_ClassId</th>\n",
       "      <th>EncodedPixels</th>\n",
       "      <th>ImageId</th>\n",
       "      <th>ClassId</th>\n",
       "      <th>hasMask</th>\n",
       "    </tr>\n",
       "  </thead>\n",
       "  <tbody>\n",
       "    <tr>\n",
       "      <th>0</th>\n",
       "      <td>0002cc93b.jpg_1</td>\n",
       "      <td>29102 12 29346 24 29602 24 29858 24 30114 24 3...</td>\n",
       "      <td>0002cc93b.jpg</td>\n",
       "      <td>1</td>\n",
       "      <td>True</td>\n",
       "    </tr>\n",
       "    <tr>\n",
       "      <th>1</th>\n",
       "      <td>0002cc93b.jpg_2</td>\n",
       "      <td>NaN</td>\n",
       "      <td>0002cc93b.jpg</td>\n",
       "      <td>2</td>\n",
       "      <td>False</td>\n",
       "    </tr>\n",
       "    <tr>\n",
       "      <th>2</th>\n",
       "      <td>0002cc93b.jpg_3</td>\n",
       "      <td>NaN</td>\n",
       "      <td>0002cc93b.jpg</td>\n",
       "      <td>3</td>\n",
       "      <td>False</td>\n",
       "    </tr>\n",
       "    <tr>\n",
       "      <th>3</th>\n",
       "      <td>0002cc93b.jpg_4</td>\n",
       "      <td>NaN</td>\n",
       "      <td>0002cc93b.jpg</td>\n",
       "      <td>4</td>\n",
       "      <td>False</td>\n",
       "    </tr>\n",
       "    <tr>\n",
       "      <th>4</th>\n",
       "      <td>00031f466.jpg_1</td>\n",
       "      <td>NaN</td>\n",
       "      <td>00031f466.jpg</td>\n",
       "      <td>1</td>\n",
       "      <td>False</td>\n",
       "    </tr>\n",
       "  </tbody>\n",
       "</table>\n",
       "</div>"
      ],
      "text/plain": [
       "   ImageId_ClassId                                      EncodedPixels  \\\n",
       "0  0002cc93b.jpg_1  29102 12 29346 24 29602 24 29858 24 30114 24 3...   \n",
       "1  0002cc93b.jpg_2                                                NaN   \n",
       "2  0002cc93b.jpg_3                                                NaN   \n",
       "3  0002cc93b.jpg_4                                                NaN   \n",
       "4  00031f466.jpg_1                                                NaN   \n",
       "\n",
       "         ImageId ClassId  hasMask  \n",
       "0  0002cc93b.jpg       1     True  \n",
       "1  0002cc93b.jpg       2    False  \n",
       "2  0002cc93b.jpg       3    False  \n",
       "3  0002cc93b.jpg       4    False  \n",
       "4  00031f466.jpg       1    False  "
      ]
     },
     "execution_count": 2,
     "metadata": {},
     "output_type": "execute_result"
    }
   ],
   "source": [
    "df = pd.read_csv('~/Data/Metis/Steel/train.csv')\n",
    "\n",
    "df['ImageId'] = df['ImageId_ClassId'].apply(lambda x: x.split('_')[0])\n",
    "df['ClassId'] = df['ImageId_ClassId'].apply(lambda x: x.split('_')[1])\n",
    "df['hasMask'] = ~ df['EncodedPixels'].isna()\n",
    "\n",
    "print(df.shape)\n",
    "df.head()"
   ]
  },
  {
   "cell_type": "code",
   "execution_count": 3,
   "metadata": {},
   "outputs": [
    {
     "name": "stdout",
     "output_type": "stream",
     "text": [
      "(897, 5)\n",
      "(247, 5)\n",
      "(5150, 5)\n",
      "(801, 5)\n"
     ]
    },
    {
     "data": {
      "text/html": [
       "<div>\n",
       "<style scoped>\n",
       "    .dataframe tbody tr th:only-of-type {\n",
       "        vertical-align: middle;\n",
       "    }\n",
       "\n",
       "    .dataframe tbody tr th {\n",
       "        vertical-align: top;\n",
       "    }\n",
       "\n",
       "    .dataframe thead th {\n",
       "        text-align: right;\n",
       "    }\n",
       "</style>\n",
       "<table border=\"1\" class=\"dataframe\">\n",
       "  <thead>\n",
       "    <tr style=\"text-align: right;\">\n",
       "      <th></th>\n",
       "      <th>ImageId_ClassId</th>\n",
       "      <th>EncodedPixels</th>\n",
       "      <th>ImageId</th>\n",
       "      <th>ClassId</th>\n",
       "      <th>hasMask</th>\n",
       "    </tr>\n",
       "  </thead>\n",
       "  <tbody>\n",
       "    <tr>\n",
       "      <th>0</th>\n",
       "      <td>0002cc93b.jpg_1</td>\n",
       "      <td>29102 12 29346 24 29602 24 29858 24 30114 24 3...</td>\n",
       "      <td>0002cc93b.jpg</td>\n",
       "      <td>1</td>\n",
       "      <td>True</td>\n",
       "    </tr>\n",
       "    <tr>\n",
       "      <th>20</th>\n",
       "      <td>000a4bcdd.jpg_1</td>\n",
       "      <td>37607 3 37858 8 38108 14 38359 20 38610 25 388...</td>\n",
       "      <td>000a4bcdd.jpg</td>\n",
       "      <td>1</td>\n",
       "      <td>True</td>\n",
       "    </tr>\n",
       "    <tr>\n",
       "      <th>56</th>\n",
       "      <td>002fc4e19.jpg_1</td>\n",
       "      <td>146021 3 146275 10 146529 40 146783 46 147038 ...</td>\n",
       "      <td>002fc4e19.jpg</td>\n",
       "      <td>1</td>\n",
       "      <td>True</td>\n",
       "    </tr>\n",
       "    <tr>\n",
       "      <th>136</th>\n",
       "      <td>008ef3d74.jpg_1</td>\n",
       "      <td>356336 4 356587 11 356838 18 357089 25 357340 ...</td>\n",
       "      <td>008ef3d74.jpg</td>\n",
       "      <td>1</td>\n",
       "      <td>True</td>\n",
       "    </tr>\n",
       "    <tr>\n",
       "      <th>148</th>\n",
       "      <td>00ac8372f.jpg_1</td>\n",
       "      <td>101742 3 101998 12 102253 19 102301 22 102509 ...</td>\n",
       "      <td>00ac8372f.jpg</td>\n",
       "      <td>1</td>\n",
       "      <td>True</td>\n",
       "    </tr>\n",
       "  </tbody>\n",
       "</table>\n",
       "</div>"
      ],
      "text/plain": [
       "     ImageId_ClassId                                      EncodedPixels  \\\n",
       "0    0002cc93b.jpg_1  29102 12 29346 24 29602 24 29858 24 30114 24 3...   \n",
       "20   000a4bcdd.jpg_1  37607 3 37858 8 38108 14 38359 20 38610 25 388...   \n",
       "56   002fc4e19.jpg_1  146021 3 146275 10 146529 40 146783 46 147038 ...   \n",
       "136  008ef3d74.jpg_1  356336 4 356587 11 356838 18 357089 25 357340 ...   \n",
       "148  00ac8372f.jpg_1  101742 3 101998 12 102253 19 102301 22 102509 ...   \n",
       "\n",
       "           ImageId ClassId  hasMask  \n",
       "0    0002cc93b.jpg       1     True  \n",
       "20   000a4bcdd.jpg       1     True  \n",
       "56   002fc4e19.jpg       1     True  \n",
       "136  008ef3d74.jpg       1     True  \n",
       "148  00ac8372f.jpg       1     True  "
      ]
     },
     "execution_count": 3,
     "metadata": {},
     "output_type": "execute_result"
    }
   ],
   "source": [
    "mask1= (df['hasMask'] == True) & (df['ClassId'] == '1')\n",
    "mask2= (df['hasMask'] == True) & (df['ClassId'] == '2')\n",
    "mask3= (df['hasMask'] == True) & (df['ClassId'] == '3')\n",
    "mask4= (df['hasMask'] == True) & (df['ClassId'] == '4')\n",
    "\n",
    "df_1=df[mask1]\n",
    "print(df_1.shape)\n",
    "\n",
    "df_2=df[mask2]\n",
    "print(df_2.shape)\n",
    "\n",
    "df_3=df[mask3]\n",
    "print(df_3.shape)\n",
    "\n",
    "df_4=df[mask4]\n",
    "print(df_4.shape)\n",
    "\n",
    "\n",
    "df_1.head()"
   ]
  },
  {
   "cell_type": "code",
   "execution_count": 4,
   "metadata": {},
   "outputs": [
    {
     "name": "stdout",
     "output_type": "stream",
     "text": [
      "(897, 5)\n"
     ]
    },
    {
     "data": {
      "text/html": [
       "<div>\n",
       "<style scoped>\n",
       "    .dataframe tbody tr th:only-of-type {\n",
       "        vertical-align: middle;\n",
       "    }\n",
       "\n",
       "    .dataframe tbody tr th {\n",
       "        vertical-align: top;\n",
       "    }\n",
       "\n",
       "    .dataframe thead th {\n",
       "        text-align: right;\n",
       "    }\n",
       "</style>\n",
       "<table border=\"1\" class=\"dataframe\">\n",
       "  <thead>\n",
       "    <tr style=\"text-align: right;\">\n",
       "      <th></th>\n",
       "      <th>ImageId_ClassId</th>\n",
       "      <th>EncodedPixels</th>\n",
       "      <th>ImageId</th>\n",
       "      <th>ClassId</th>\n",
       "      <th>hasMask</th>\n",
       "    </tr>\n",
       "  </thead>\n",
       "  <tbody>\n",
       "    <tr>\n",
       "      <th>18</th>\n",
       "      <td>0007a71bf.jpg_3</td>\n",
       "      <td>18661 28 18863 82 19091 110 19347 110 19603 11...</td>\n",
       "      <td>0007a71bf.jpg</td>\n",
       "      <td>3</td>\n",
       "      <td>True</td>\n",
       "    </tr>\n",
       "    <tr>\n",
       "      <th>30</th>\n",
       "      <td>0014fce06.jpg_3</td>\n",
       "      <td>229501 11 229741 33 229981 55 230221 77 230468...</td>\n",
       "      <td>0014fce06.jpg</td>\n",
       "      <td>3</td>\n",
       "      <td>True</td>\n",
       "    </tr>\n",
       "    <tr>\n",
       "      <th>46</th>\n",
       "      <td>0025bde0c.jpg_3</td>\n",
       "      <td>8458 14 8707 35 8963 48 9219 71 9475 88 9731 8...</td>\n",
       "      <td>0025bde0c.jpg</td>\n",
       "      <td>3</td>\n",
       "      <td>True</td>\n",
       "    </tr>\n",
       "    <tr>\n",
       "      <th>70</th>\n",
       "      <td>0046839bd.jpg_3</td>\n",
       "      <td>152926 1 153180 4 153434 6 153689 8 153943 11 ...</td>\n",
       "      <td>0046839bd.jpg</td>\n",
       "      <td>3</td>\n",
       "      <td>True</td>\n",
       "    </tr>\n",
       "    <tr>\n",
       "      <th>78</th>\n",
       "      <td>005d86c25.jpg_3</td>\n",
       "      <td>331 18 587 53 843 89 1099 124 1355 159 1611 17...</td>\n",
       "      <td>005d86c25.jpg</td>\n",
       "      <td>3</td>\n",
       "      <td>True</td>\n",
       "    </tr>\n",
       "  </tbody>\n",
       "</table>\n",
       "</div>"
      ],
      "text/plain": [
       "    ImageId_ClassId                                      EncodedPixels  \\\n",
       "18  0007a71bf.jpg_3  18661 28 18863 82 19091 110 19347 110 19603 11...   \n",
       "30  0014fce06.jpg_3  229501 11 229741 33 229981 55 230221 77 230468...   \n",
       "46  0025bde0c.jpg_3  8458 14 8707 35 8963 48 9219 71 9475 88 9731 8...   \n",
       "70  0046839bd.jpg_3  152926 1 153180 4 153434 6 153689 8 153943 11 ...   \n",
       "78  005d86c25.jpg_3  331 18 587 53 843 89 1099 124 1355 159 1611 17...   \n",
       "\n",
       "          ImageId ClassId  hasMask  \n",
       "18  0007a71bf.jpg       3     True  \n",
       "30  0014fce06.jpg       3     True  \n",
       "46  0025bde0c.jpg       3     True  \n",
       "70  0046839bd.jpg       3     True  \n",
       "78  005d86c25.jpg       3     True  "
      ]
     },
     "execution_count": 4,
     "metadata": {},
     "output_type": "execute_result"
    }
   ],
   "source": [
    "df_1=df[mask1]\n",
    "print(df_1.shape)\n",
    "df_3.head()"
   ]
  },
  {
   "cell_type": "code",
   "execution_count": 45,
   "metadata": {},
   "outputs": [
    {
     "data": {
      "image/png": "[encoded data removed]",
      "text/plain": [
       "<Figure size 432x288 with 1 Axes>"
      ]
     },
     "metadata": {
      "needs_background": "light"
     },
     "output_type": "display_data"
    }
   ],
   "source": [
    "img_name = df_3[\"ImageId\"][78]\n",
    "#img_name = '0025bde0c.jpg'\n",
    "abs_path = \"/Users/robjohns/Data/Metis/Steel/train_images/\"\n",
    "filename=abs_path+img_name\n",
    "impath = Path(filename)\n",
    "\n",
    "\n",
    "if impath.exists() == True :\n",
    "    seed_image = cv2.imread(filename)\n",
    "    plt.imshow(seed_image)\n",
    "    plt.title(str(impath))\n",
    "    plt.show()\n",
    "    \n",
    "else:\n",
    "    print('image/the limit does not exist')"
   ]
  },
  {
   "cell_type": "code",
   "execution_count": 37,
   "metadata": {},
   "outputs": [
    {
     "data": {
      "text/plain": [
       "(256, 1600, 3)"
      ]
     },
     "execution_count": 37,
     "metadata": {},
     "output_type": "execute_result"
    }
   ],
   "source": [
    "seed_image.shape"
   ]
  },
  {
   "cell_type": "code",
   "execution_count": null,
   "metadata": {},
   "outputs": [],
   "source": []
  },
  {
   "cell_type": "code",
   "execution_count": null,
   "metadata": {},
   "outputs": [],
   "source": []
  }
 ],
 "metadata": {
  "kernelspec": {
   "display_name": "Python 3",
   "language": "python",
   "name": "python3"
  },
  "language_info": {
   "codemirror_mode": {
    "name": "ipython",
    "version": 3
   },
   "file_extension": ".py",
   "mimetype": "text/x-python",
   "name": "python",
   "nbconvert_exporter": "python",
   "pygments_lexer": "ipython3",
   "version": "3.7.3"
  }
 },
 "nbformat": 4,
 "nbformat_minor": 2
}
